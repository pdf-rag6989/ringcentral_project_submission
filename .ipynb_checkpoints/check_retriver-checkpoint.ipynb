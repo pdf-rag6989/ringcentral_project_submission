{
 "cells": [
  {
   "cell_type": "code",
   "execution_count": 1,
   "id": "3a689731-8e85-4bf4-bdf6-870890e5a5ef",
   "metadata": {},
   "outputs": [],
   "source": [
    "from retriever import DataRetriver\n",
    "from generation import Results_Generation"
   ]
  },
  {
   "cell_type": "code",
   "execution_count": 5,
   "id": "be98af78-dd49-4b57-8af2-2884babc744b",
   "metadata": {},
   "outputs": [
    {
     "name": "stderr",
     "output_type": "stream",
     "text": [
      "2024-11-25 17:50:26,050 [INFO] Loaded config.json from: /Users/deepakn/Desktop/PDF-RAG/config.json\n",
      "2024-11-25 17:50:26,069 [INFO] ['Astor Manual.pdf', 'APP-TIAGO-FINAL-OMSB.pdf']\n",
      "2024-11-25 17:50:28,472 [INFO] HTTP Request: POST https://api.openai.com/v1/chat/completions \"HTTP/1.1 200 OK\"\n"
     ]
    },
    {
     "data": {
      "text/plain": [
       "{'car_model_name': 'Not_in_scope',\n",
       " 'image_url': None,\n",
       " 'text_or_image_search': 'text'}"
      ]
     },
     "execution_count": 5,
     "metadata": {},
     "output_type": "execute_result"
    }
   ],
   "source": [
    "user_query=\"i want to know how abs works for maruti car \"\n",
    "generation=Results_Generation()\n",
    "searcher = DataRetriver()\n",
    "entity=generation.extract_entities(user_query)\n",
    "print(generation.final_prompt)\n",
    "# if entity['car_model_name']=='Not_in_scope':\n",
    "#     return \"The requested car manual is not currently in scope\"\n",
    "# elif entity['car_model_name'] is None:\n",
    "#     information_extracted=searcher.retrieve_similar_texts(text_query)\n",
    "    \n",
    "#     message_text = [{\"role\": \"system\", \"content\": \"{}\".format(updated_prompt)}]\n",
    "    \n",
    "    \n",
    "# else:\n",
    "    "
   ]
  },
  {
   "cell_type": "code",
   "execution_count": 7,
   "id": "6269548d-1d64-4398-9842-bdec9841bfad",
   "metadata": {},
   "outputs": [
    {
     "name": "stderr",
     "output_type": "stream",
     "text": [
      "2024-11-25 17:21:40,926 [INFO] Loaded config.json from: /Users/deepakn/Desktop/PDF-RAG/config.json\n",
      "2024-11-25 17:21:40,960 [INFO] Use pytorch device_name: mps\n",
      "2024-11-25 17:21:40,960 [INFO] Load pretrained SentenceTransformer: jinaai/jina-embeddings-v2-small-en\n",
      "2024-11-25 17:21:53,496 [INFO] Use pytorch device: mps\n"
     ]
    }
   ],
   "source": [
    "searcher = DataRetriver()"
   ]
  },
  {
   "cell_type": "code",
   "execution_count": 8,
   "id": "89357551-5c70-480b-86da-3a27270add2f",
   "metadata": {},
   "outputs": [
    {
     "data": {
      "application/vnd.jupyter.widget-view+json": {
       "model_id": "69faacb5b1e1474c924d07c5966ec5fa",
       "version_major": 2,
       "version_minor": 0
      },
      "text/plain": [
       "Batches:   0%|          | 0/1 [00:00<?, ?it/s]"
      ]
     },
     "metadata": {},
     "output_type": "display_data"
    },
    {
     "data": {
      "application/vnd.jupyter.widget-view+json": {
       "model_id": "beaa196bc29e476db34c452c7976a3e2",
       "version_major": 2,
       "version_minor": 0
      },
      "text/plain": [
       "Batches:   0%|          | 0/1 [00:00<?, ?it/s]"
      ]
     },
     "metadata": {},
     "output_type": "display_data"
    },
    {
     "data": {
      "text/plain": [
       "{'Context': [{'Document': 'Document 1',\n",
       "   'PDF Name': 'Astor Manual.pdf',\n",
       "   'Page Number': 150,\n",
       "   'Text': 'Starting & Driving Hill Descent Control (HDC) A The HDC system is only an auxiliary function. It has limitations when subject to adverse conditions such as wet or icy surfaces and steep slopes. The HDC system cannot overcome the laws of physics, always ensure that the vehicle is driven down steep slopes at low\\nspeeds.\\nA Even when the HDC system is switched on, the driver must always pay close attention to the driving state of the vehicle, and take active control when necessary. In certain cases, HDC may be suspended or switched\\noff temporarily.\\nA During some driving conditions on downhill surfaces (e.g. driving down a slope at high speed or small slope, etc.), HDC is inoperative, the driver must 148 maintain control of the vehicle at all times and use _ brake\\napplications to ensure safety.\\nThe HDC system is an auxiliary function specially designed for driving on acute downhill gradients. The system reduces the speed by applying brake force, thus assisting the driver to drive on acute downhill surfaces\\nwith low speeds.\\nPlease DO NOT use this function when\\ndriving on the ordinary roads.\\nWhen the HDC is working, the brake system may generate strong vibrations or noise. It is\\nnormal during the operation of HDC.\\nNote: During the operation of the hill descent control (HDC) system, please do not move the shift control knob to the “N” position. Such operation may\\ndeactivate the HDC function.\\nHDC System On/Off When the START/STOP. Switch is switched\\nON/RUNNING, HDC system defaults to off.\\nUse the switch to turn the HDC system on/\\noff.\\nNormally, HDC system has four states: | Standby: Press the HDC switch (ON) to set the system into standby mode, the green HDC warning lamp in the\\ninstrument pack will illuminate.\\n2 Operation: Whilst in Standby mode, when the vehicle is driven down an acute gradient, if the accelrator and brake pedals are not pressed and the vehicle is at low speed, the HDC system will',\n",
       "   'Table JSON': '[]',\n",
       "   'Image Description': 'The image features a section from a vehicle manual detailing the Hill Descent Control (HDC) system. It includes instructional content and safety warnings related to the operation of the HDC system, which assists in maintaining controlled descent on steep slopes. Key components include important warnings cautioning the driver about the limitations of the HDC, emphasizing its auxiliary nature and advising against its use on ordinary roads or at high speeds. The manual specifies that the system requires attention to driving conditions and allows the driver to deactivate the system if necessary. Numerical data indicates the system defaults to \"off\" during the ON/RUNNING state of the START/STOP switch and outlines four operational states for the HDC, including standby and operation modes. It highlights safety guidelines such as maintaining vehicle control and avoiding unnecessary shifts that may deactivate the HDC function. This information serves the purpose of guiding users in safe and effective use of the HDC system during driving situations.'},\n",
       "  {'Document': 'Document 4',\n",
       "   'PDF Name': 'Astor Manual.pdf',\n",
       "   'Page Number': 151,\n",
       "   'Text': 'Starting & Driving\\nautomatically enter the operating state.\\nIn this case, the HDC warning lamp in the instrument pack flashes green, and may be accompanied by the working noise of the brake system. The HDC system will attempt to control the vehicle drive\\ndown the steep slope smoothly.\\n3. Temporary Deactivation: Press the accelerator or brake pedal beyond a preset limit whilst in operating mode and the HDC system will temporarily\\nsuspend operation.\\n4 Off: Press the HDC switch (OFF) to switch the system OFF, the green HDC warning lamp in the instrument pack will\\nextinguish.\\nNote: When the vehicle turns at a fast speed whilst on an incline, the HDC system may switch from Standby to\\nOperating mode.\\nNote: During HDC system operation the braking system will automatically\\npressurise and maintain pressure.\\nOperation of the brake pedal during this phase may result in a ‘kickback’ sensation through the pedal. This is\\nnormal for HDC operation.\\nHDC ON/Malfunction Indicator Lamp Refer to “Warning Lights and Indicators” in\\n“Instruments and Controls” chapter.\\nAnti-lock Brake System (ABS) ABS cannot overcome the physical limitations of stopping the car in too short a distance, cornering at too high a speed, or the danger of aquaplaning, i.e. where a layer of water prevents adequate contact between the tyres and the road\\nsurface.\\nThe purpose of the anti-lock braking system (ABS) is to prevent the wheels from locking while braking, thereby enabling the driver to\\nretain steering control of the car.\\nThe fact that a car is fitted with ABS must never tempt the driver into taking risks that could affect his/her safety or that of other road users. In all cases, it remains the driver’s responsibility to drive within normal safety margins, having due consideration for\\nprevailing weather and traffic conditions.\\nUnder normal braking conditions, ABS will not be activated. However, once the braking force exceeds the available adhesion between the tires and the road surface, thereby causing the wheels to lock, ABS will automatically come into operation. This 149',\n",
       "   'Table JSON': '[]',\n",
       "   'Image Description': nan},\n",
       "  {'Document': 'Document 2',\n",
       "   'PDF Name': 'Astor Manual.pdf',\n",
       "   'Page Number': 143,\n",
       "   'Text': 'Gearshift Speed With D or S gear selected, the speed at one gear varies depending on the accelerator pedal position: a smaller throttle opening will result in the gear shift at a lower speed, and a larger throttle opening will render the transmission to delay the gear shift action, until the gear shift is completed when the\\nvehicle reaches a higher speed.\\nKick-down A The drive wheels may skid when kick-down is activated on road surfaces with low adhesion, this may lead to the vehicle sliding\\nout of control.\\nWith D or S gear selected, pressing the accelerator pedal all the way down in one motion (also known as_ kick-down) will provide better acceleration performance during overtaking. Under certain conditions, it will allow the transmission to shift to a lower gear immediately, and provide fast acceleration. Once the accelerator pedal is released, it will resume a suitable higher gear (based on the vehicle speed and the position\\nof the accelerator pedal).\\nDriving on Hills A In cases where a short stop on a hill is required, such as a traffic jam, DO NOT momentarily apply the accelerator to prevent “roll back”. This could cause the automatic transmission to\\noverheat and result in damage.\\nHill Start In case of hill start, the starting aid function of the EPB can be used to prevent from slipping. With the seat belt safely fastened, press the brake pedal, apply the EPB, and engage into the desired gear (D/R/S), then release the brake pedal; press the accelerator pedal for start-off, the EPB will automatically\\ndeactivated for starting aid.\\nYou can also use the hill hold control function to hill start. For details on hill hold control system, please refer to “Brake System” in this\\nchapter.\\nNote:The aid of these functions cannot defy the laws of physics. DO NOT drive the vehicle beyond its physical\\nlimitations, loss of control will still occur.\\nStarting & Driving Downhill Driving A Repeatedly pressing the brake pedal may result in brake overheat, thereby causing the degradation of brake\\nperformance or brake failure.\\nIf driving down a hill for long distances, slow down first, and then push the shift lever from D gear to the right and enter into manual mode, then manually engage in low gear. Use a lower gear selection to aid the slowing of the vehicle and thus avoiding over-use of the brakes. For example, when driving down the hill with continuous curves, engage into 2 gear; when driving down the straight hill, engage into 3 gear. If the brake force of engine is insufficient, the speed is increased, the automatic transmission will shift to high gear automatically to avoid the overrunning of the engine, at this time, you need to press the brake pedal immediately and shift to\\nappropriate low gear through manual mode.\\n141',\n",
       "   'Table JSON': '[]',\n",
       "   'Image Description': nan}]}"
      ]
     },
     "execution_count": 8,
     "metadata": {},
     "output_type": "execute_result"
    }
   ],
   "source": [
    "text_query=\"Hill Descent Control (HDC)\"\n",
    "searcher.retrieve_similar_texts(text_query)"
   ]
  },
  {
   "cell_type": "code",
   "execution_count": null,
   "id": "0b330f63-3062-4d0d-9104-82c818603a60",
   "metadata": {},
   "outputs": [],
   "source": [
    "image=\"./images/Astor Manual/page-14/page_14_sub_image_1.jpeg\"\n",
    "searcher.retrieve_similar_images(image)"
   ]
  },
  {
   "cell_type": "code",
   "execution_count": null,
   "id": "37f76265-7fc3-48a0-b5e3-cddc01d23f28",
   "metadata": {},
   "outputs": [],
   "source": [
    "image=\"https://encrypted-tbn3.gstatic.com/images?q=tbn:ANd9GcR8E3zG5do861tfZzYKo4YQvTa2H6TnaymEQ_SGpmle2EaWpnN4\"\n",
    "searcher.retrieve_similar_images(image,\"Astor Manual.pdf\")"
   ]
  },
  {
   "cell_type": "code",
   "execution_count": null,
   "id": "0205c450-1dcc-4199-838c-b41e88eed22b",
   "metadata": {},
   "outputs": [],
   "source": []
  }
 ],
 "metadata": {
  "kernelspec": {
   "display_name": "Python 3.9 (pdf_rag_2)",
   "language": "python",
   "name": "pdf_rag_2"
  },
  "language_info": {
   "codemirror_mode": {
    "name": "ipython",
    "version": 3
   },
   "file_extension": ".py",
   "mimetype": "text/x-python",
   "name": "python",
   "nbconvert_exporter": "python",
   "pygments_lexer": "ipython3",
   "version": "3.9.18"
  }
 },
 "nbformat": 4,
 "nbformat_minor": 5
}
