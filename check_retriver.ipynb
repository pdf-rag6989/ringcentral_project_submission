{
 "cells": [
  {
   "cell_type": "code",
   "execution_count": 1,
   "id": "2d81f5e2-1b9a-4e08-a354-604a66bdbdec",
   "metadata": {},
   "outputs": [
    {
     "name": "stderr",
     "output_type": "stream",
     "text": [
      "2024-11-25 19:29:35,579 [INFO] Loaded config.json from: /Users/deepakn/Desktop/PDF-RAG/config.json\n",
      "\u001b[34m\u001b[1mwandb\u001b[0m: Using wandb-core as the SDK backend.  Please refer to https://wandb.me/wandb-core for more information.\n",
      "\u001b[34m\u001b[1mwandb\u001b[0m: Currently logged in as: \u001b[33mpdf-rag6989\u001b[0m (\u001b[33mpdf-rag6989-self\u001b[0m). Use \u001b[1m`wandb login --relogin`\u001b[0m to force relogin\n",
      "\u001b[34m\u001b[1mwandb\u001b[0m: \u001b[33mWARNING\u001b[0m If you're specifying your api key in code, ensure this code is not shared publicly.\n",
      "\u001b[34m\u001b[1mwandb\u001b[0m: \u001b[33mWARNING\u001b[0m Consider setting the WANDB_API_KEY environment variable, or running `wandb login` from the command line.\n",
      "\u001b[34m\u001b[1mwandb\u001b[0m: Appending key for api.wandb.ai to your netrc file: /Users/deepakn/.netrc\n"
     ]
    },
    {
     "data": {
      "text/html": [
       "Tracking run with wandb version 0.18.7"
      ],
      "text/plain": [
       "<IPython.core.display.HTML object>"
      ]
     },
     "metadata": {},
     "output_type": "display_data"
    },
    {
     "data": {
      "text/html": [
       "Run data is saved locally in <code>/Users/deepakn/Desktop/PDF-RAG/wandb/run-20241125_192939-mqbwgcph</code>"
      ],
      "text/plain": [
       "<IPython.core.display.HTML object>"
      ]
     },
     "metadata": {},
     "output_type": "display_data"
    },
    {
     "data": {
      "text/html": [
       "Syncing run <strong><a href='https://wandb.ai/pdf-rag6989-self/PDF%20RAG%20on%20Car%20Manuals/runs/mqbwgcph' target=\"_blank\">Test Run</a></strong> to <a href='https://wandb.ai/pdf-rag6989-self/PDF%20RAG%20on%20Car%20Manuals' target=\"_blank\">Weights & Biases</a> (<a href='https://wandb.me/developer-guide' target=\"_blank\">docs</a>)<br/>"
      ],
      "text/plain": [
       "<IPython.core.display.HTML object>"
      ]
     },
     "metadata": {},
     "output_type": "display_data"
    },
    {
     "data": {
      "text/html": [
       " View project at <a href='https://wandb.ai/pdf-rag6989-self/PDF%20RAG%20on%20Car%20Manuals' target=\"_blank\">https://wandb.ai/pdf-rag6989-self/PDF%20RAG%20on%20Car%20Manuals</a>"
      ],
      "text/plain": [
       "<IPython.core.display.HTML object>"
      ]
     },
     "metadata": {},
     "output_type": "display_data"
    },
    {
     "data": {
      "text/html": [
       " View run at <a href='https://wandb.ai/pdf-rag6989-self/PDF%20RAG%20on%20Car%20Manuals/runs/mqbwgcph' target=\"_blank\">https://wandb.ai/pdf-rag6989-self/PDF%20RAG%20on%20Car%20Manuals/runs/mqbwgcph</a>"
      ],
      "text/plain": [
       "<IPython.core.display.HTML object>"
      ]
     },
     "metadata": {},
     "output_type": "display_data"
    },
    {
     "name": "stderr",
     "output_type": "stream",
     "text": [
      "2024-11-25 19:29:40,675 [INFO] Loaded config.json from: /Users/deepakn/Desktop/PDF-RAG/config.json\n",
      "2024-11-25 19:29:40,695 [INFO] Use pytorch device_name: mps\n",
      "2024-11-25 19:29:40,696 [INFO] Load pretrained SentenceTransformer: jinaai/jina-embeddings-v2-small-en\n",
      "2024-11-25 19:29:54,827 [INFO] Use pytorch device: mps\n"
     ]
    }
   ],
   "source": [
    "from retriever import DataRetriver\n",
    "from generation import Results_Generation\n",
    "\n",
    "generation=Results_Generation()\n",
    "searcher = DataRetriver()"
   ]
  },
  {
   "cell_type": "code",
   "execution_count": 2,
   "id": "be98af78-dd49-4b57-8af2-2884babc744b",
   "metadata": {},
   "outputs": [],
   "source": [
    "user_query=\"i want to know how abs works for tiago car\"\n",
    "#user_query=\"i want to know how abs works for astor car\"\n",
    "#user_query=\"Who is sachin tendulkar\"\n",
    "#user_query=\"could u share more detaials about this https://encrypted-tbn3.gstatic.com/images?q=tbn:ANd9GcR8E3zG5do861tfZzYKo4YQvTa2H6TnaymEQ_SGpmle2EaWpnN4\"\n",
    "#user_query=\"could u share more details about https://encrypted-tbn3.gstatic.com/images?q=tbn:ANd9GcR8E3zG5do861tfZzYKo4YQvTa2H6TnaymEQ_SGpmle2EaWpnN4for astor car\"\n",
    "#user_query=\"could you explain this image : ./images/Astor Manual/page-14/page_14_sub_image_1.jpeg\""
   ]
  },
  {
   "cell_type": "code",
   "execution_count": 3,
   "id": "8bcb5508-96a7-4a40-aee2-1a840a41ca9a",
   "metadata": {},
   "outputs": [
    {
     "name": "stderr",
     "output_type": "stream",
     "text": [
      "2024-11-25 19:29:59,714 [INFO] ['Astor Manual.pdf', 'APP-TIAGO-FINAL-OMSB.pdf']\n",
      "2024-11-25 19:30:01,420 [INFO] HTTP Request: POST https://api.openai.com/v1/chat/completions \"HTTP/1.1 200 OK\"\n"
     ]
    },
    {
     "name": "stdout",
     "output_type": "stream",
     "text": [
      "{'car_model_name': 'APP-TIAGO-FINAL-OMSB.pdf', 'image_url': None, 'text_or_image_search': 'text'}\n"
     ]
    },
    {
     "data": {
      "application/vnd.jupyter.widget-view+json": {
       "model_id": "1f37687ebe6f4ce7a189bdc182a47017",
       "version_major": 2,
       "version_minor": 0
      },
      "text/plain": [
       "Batches:   0%|          | 0/1 [00:00<?, ?it/s]"
      ]
     },
     "metadata": {},
     "output_type": "display_data"
    },
    {
     "data": {
      "application/vnd.jupyter.widget-view+json": {
       "model_id": "793ec08449534bd7814142b76c48b624",
       "version_major": 2,
       "version_minor": 0
      },
      "text/plain": [
       "Batches:   0%|          | 0/1 [00:00<?, ?it/s]"
      ]
     },
     "metadata": {},
     "output_type": "display_data"
    },
    {
     "name": "stderr",
     "output_type": "stream",
     "text": [
      "2024-11-25 19:30:14,720 [INFO] HTTP Request: POST https://api.openai.com/v1/chat/completions \"HTTP/1.1 200 OK\"\n",
      "huggingface/tokenizers: The current process just got forked, after parallelism has already been used. Disabling parallelism to avoid deadlocks...\n",
      "To disable this warning, you can either:\n",
      "\t- Avoid using `tokenizers` before the fork if possible\n",
      "\t- Explicitly set the environment variable TOKENIZERS_PARALLELISM=(true | false)\n"
     ]
    },
    {
     "name": "stdout",
     "output_type": "stream",
     "text": [
      "The Anti-lock Braking System (ABS) in the Tiago car works to prevent the wheels from locking up during braking, ensuring that the driver maintains control and steering capability. When ABS is active, you might notice a pulsating sensation in the brake pedal, which is a normal part of the system's operation. The ABS system is designed to regulate brake pressure, allowing the wheels to maintain traction with the road surface, thereby avoiding skidding or sliding during intense braking situations.\n",
      "\n",
      "It's important to note that while ABS helps in maintaining control, it does not necessarily shorten the stopping distance. It primarily aids in keeping the vehicle steerable during sudden braking scenarios. If there's a malfunction in the ABS, the ABS warning lamp on the dashboard will illuminate, indicating that the ABS is not functioning, although the standard braking system will still be operational. In such cases, it is advisable to drive cautiously to the nearest authorized TATA MOTORS Service Centre for a checkup.\n",
      "\n",
      "**Citations:**\n",
      "- APP-TIAGO-FINAL-OMSB.pdf (Page 21)\n",
      "- APP-TIAGO-FINAL-OMSB.pdf (Page 45)\n"
     ]
    }
   ],
   "source": [
    "entity=generation.extract_entities(user_query)\n",
    "if entity['car_model_name']=='Not_in_scope':\n",
    "    print(\"The requested car manual is not currently in scope\")\n",
    "    \n",
    "elif entity['car_model_name'] is None:\n",
    "    if entity['image_url'] is None:\n",
    "        information_extracted=searcher.retrieve_similar_texts(user_query)\n",
    "    else:\n",
    "        image_path=entity['image_url']\n",
    "        information_extracted=searcher.retrieve_similar_images(image_path)\n",
    "    updated_prompt=generation.final_prompt.format(user_query=user_query,general_info_requested='yes',context=information_extracted)\n",
    "    message_text = [{\"role\": \"system\", \"content\": \"{}\".format(updated_prompt)}]\n",
    "    final_result=generation.base_gpt4_model(message_text) \n",
    "    print(final_result)\n",
    "    \n",
    "else:\n",
    "    if entity['image_url'] is None:\n",
    "        information_extracted=searcher.retrieve_similar_texts(user_query,pdf_name_filter=entity['car_model_name'])\n",
    "    else:\n",
    "        image_path=entity['image_url']\n",
    "        information_extracted=searcher.retrieve_similar_images(image_path,pdf_name_filter=entity['car_model_name'])      \n",
    "    updated_prompt=generation.final_prompt.format(user_query=user_query,general_info_requested='no',context=information_extracted)\n",
    "    message_text = [{\"role\": \"system\", \"content\": \"{}\".format(updated_prompt)}]\n",
    "    final_result=generation.base_gpt4_model(message_text) \n",
    "    print(final_result)"
   ]
  },
  {
   "cell_type": "code",
   "execution_count": null,
   "id": "cd4dd21d-3200-4ac5-9f43-e7c6d577c51c",
   "metadata": {},
   "outputs": [],
   "source": []
  }
 ],
 "metadata": {
  "kernelspec": {
   "display_name": "Python 3.9 (pdf_rag_2)",
   "language": "python",
   "name": "pdf_rag_2"
  },
  "language_info": {
   "codemirror_mode": {
    "name": "ipython",
    "version": 3
   },
   "file_extension": ".py",
   "mimetype": "text/x-python",
   "name": "python",
   "nbconvert_exporter": "python",
   "pygments_lexer": "ipython3",
   "version": "3.9.18"
  }
 },
 "nbformat": 4,
 "nbformat_minor": 5
}
